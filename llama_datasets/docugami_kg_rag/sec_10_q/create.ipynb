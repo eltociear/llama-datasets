{
 "cells": [
  {
   "cell_type": "markdown",
   "metadata": {},
   "source": [
    "# Creating SEC 10-Q Dataset\n",
    "\n",
    "This notebook takes the Docugami KG-RAG Dataset for SEC 10-Q maintained here: https://github.com/docugami/KG-RAG-datasets/tree/main/sec-10-q and converts it into the correct format for the llama_dataset repo.\n",
    "\n",
    "Instructions adapted from https://github.com/run-llama/llama_index/blob/main/docs/examples/llama_dataset/ragdataset_submission_template.ipynb"
   ]
  },
  {
   "cell_type": "code",
   "execution_count": 1,
   "metadata": {},
   "outputs": [
    {
     "name": "stdout",
     "output_type": "stream",
     "text": [
      "\u001b[33mWARNING: Running pip as the 'root' user can result in broken permissions and conflicting behaviour with the system package manager. It is recommended to use a virtual environment instead: https://pip.pypa.io/warnings/venv\u001b[0m\u001b[33m\n",
      "\u001b[0m"
     ]
    }
   ],
   "source": [
    "! pip install --quiet --upgrade llama-index pypdf"
   ]
  },
  {
   "cell_type": "markdown",
   "metadata": {},
   "source": [
    "## Get Latest Dataset artifacts"
   ]
  },
  {
   "cell_type": "code",
   "execution_count": 2,
   "metadata": {},
   "outputs": [
    {
     "name": "stdout",
     "output_type": "stream",
     "text": [
      "Cloning into 'temp'...\n",
      "remote: Enumerating objects: 178, done.\u001b[K\n",
      "remote: Counting objects: 100% (71/71), done.\u001b[K\n",
      "remote: Compressing objects: 100% (54/54), done.\u001b[K\n",
      "remote: Total 178 (delta 10), reused 60 (delta 8), pack-reused 107\u001b[K\n",
      "Receiving objects: 100% (178/178), 56.52 MiB | 47.37 MiB/s, done.\n",
      "Resolving deltas: 100% (11/11), done.\n"
     ]
    }
   ],
   "source": [
    "! rm -rf temp\n",
    "! git clone https://github.com/docugami/KG-RAG-datasets.git temp"
   ]
  },
  {
   "cell_type": "code",
   "execution_count": 3,
   "metadata": {},
   "outputs": [],
   "source": [
    "!rm -rf source_files\n",
    "!cp -r temp/sec-10-q/data/v1/docs source_files"
   ]
  },
  {
   "cell_type": "markdown",
   "metadata": {},
   "source": [
    "## Create a LabelledRagDataset"
   ]
  },
  {
   "cell_type": "code",
   "execution_count": 4,
   "metadata": {},
   "outputs": [],
   "source": [
    "import os\n",
    "from pathlib import Path\n",
    "\n",
    "DOCS_DIR = Path(os.getcwd()) / \"temp/sec-10-q/data/v1/docs\" \n",
    "QNA_CSV = Path(os.getcwd()) / \"temp/sec-10-q/data/v1/qna_data.csv\""
   ]
  },
  {
   "cell_type": "code",
   "execution_count": 5,
   "metadata": {},
   "outputs": [],
   "source": [
    "import pandas as pd\n",
    "from llama_index.llama_dataset import (\n",
    "    LabelledRagDataExample,\n",
    "    CreatedBy,\n",
    "    CreatedByType,\n",
    ")\n",
    "from llama_index.llama_dataset import LabelledRagDataset\n",
    "\n",
    "\n",
    "# Read\n",
    "source_df = pd.read_csv(QNA_CSV)\n",
    "\n",
    "examples = []\n",
    "for ix, row in source_df.iterrows():\n",
    "    # translate source df to required structure\n",
    "    query = row[\"Question\"]\n",
    "    query_by = CreatedBy(type=CreatedByType.HUMAN)\n",
    "    reference_answer = row[\"Answer\"]\n",
    "    reference_answer_by = CreatedBy(\n",
    "        model_name=\"gpt-4-turbo (with human review)\", type=CreatedByType.AI\n",
    "    )\n",
    "    reference_contexts = None\n",
    "\n",
    "    example = LabelledRagDataExample(\n",
    "        query=query,\n",
    "        query_by=query_by,\n",
    "        reference_answer=reference_answer,\n",
    "        reference_answer_by=reference_answer_by,\n",
    "        reference_contexts=reference_contexts,\n",
    "    )\n",
    "    examples.append(example)\n",
    "\n",
    "rag_dataset = LabelledRagDataset(examples=examples)\n",
    "\n",
    "# save this dataset as it is required for the submission\n",
    "rag_dataset.save_json(\"rag_dataset.json\")"
   ]
  },
  {
   "cell_type": "markdown",
   "metadata": {},
   "source": [
    "## Generate a Baseline Evaluation Result"
   ]
  },
  {
   "cell_type": "code",
   "execution_count": 6,
   "metadata": {},
   "outputs": [
    {
     "name": "stderr",
     "output_type": "stream",
     "text": [
      "Batch processing of predictions: 100%|██████████| 10/10 [00:09<00:00,  1.01it/s]\n",
      "Batch processing of predictions: 100%|██████████| 10/10 [00:06<00:00,  1.47it/s]\n",
      "Batch processing of predictions: 100%|██████████| 10/10 [00:09<00:00,  1.08it/s]\n",
      "Batch processing of predictions: 100%|██████████| 10/10 [00:07<00:00,  1.32it/s]\n",
      "Batch processing of predictions: 100%|██████████| 10/10 [00:05<00:00,  1.74it/s]\n",
      "Batch processing of predictions: 100%|██████████| 10/10 [00:07<00:00,  1.42it/s]\n",
      "Batch processing of predictions: 100%|██████████| 10/10 [00:07<00:00,  1.32it/s]\n",
      "Batch processing of predictions: 100%|██████████| 10/10 [00:07<00:00,  1.39it/s]\n",
      "Batch processing of predictions: 100%|██████████| 10/10 [00:03<00:00,  2.62it/s]\n",
      "Batch processing of predictions: 100%|██████████| 10/10 [00:06<00:00,  1.47it/s]\n",
      "Batch processing of predictions: 100%|██████████| 10/10 [00:06<00:00,  1.47it/s]\n",
      "Batch processing of predictions: 100%|██████████| 10/10 [00:10<00:00,  1.08s/it]\n",
      "Batch processing of predictions: 100%|██████████| 10/10 [00:05<00:00,  1.96it/s]\n",
      "Batch processing of predictions: 100%|██████████| 10/10 [00:06<00:00,  1.55it/s]\n",
      "Batch processing of predictions: 100%|██████████| 10/10 [00:05<00:00,  1.81it/s]\n",
      "Batch processing of predictions: 100%|██████████| 10/10 [00:06<00:00,  1.59it/s]\n",
      "Batch processing of predictions: 100%|██████████| 10/10 [00:05<00:00,  1.71it/s]\n",
      "Batch processing of predictions: 100%|██████████| 10/10 [00:05<00:00,  1.73it/s]\n",
      "Batch processing of predictions: 100%|██████████| 10/10 [00:06<00:00,  1.57it/s]\n",
      "Batch processing of predictions: 100%|██████████| 5/5 [00:06<00:00,  1.25s/it]\n",
      "Batch processing of evaluations: 100%|██████████| 98/98.0 [13:50<00:00,  8.48s/it]\n",
      "pack/base.py:254: FutureWarning: The behavior of DataFrame concatenation with empty or all-NA entries is deprecated. In a future version, this will no longer exclude empty or all-NA columns when determining the result dtypes. To retain the old behavior, exclude the relevant entries before the concat operation.\n",
      "  mean_scores_df = pd.concat(\n"
     ]
    },
    {
     "data": {
      "text/html": [
       "<div>\n",
       "<style scoped>\n",
       "    .dataframe tbody tr th:only-of-type {\n",
       "        vertical-align: middle;\n",
       "    }\n",
       "\n",
       "    .dataframe tbody tr th {\n",
       "        vertical-align: top;\n",
       "    }\n",
       "\n",
       "    .dataframe thead th {\n",
       "        text-align: right;\n",
       "    }\n",
       "</style>\n",
       "<table border=\"1\" class=\"dataframe\">\n",
       "  <thead>\n",
       "    <tr style=\"text-align: right;\">\n",
       "      <th>rag</th>\n",
       "      <th>base_rag</th>\n",
       "    </tr>\n",
       "    <tr>\n",
       "      <th>metrics</th>\n",
       "      <th></th>\n",
       "    </tr>\n",
       "  </thead>\n",
       "  <tbody>\n",
       "    <tr>\n",
       "      <th>mean_correctness_score</th>\n",
       "      <td>2.666667</td>\n",
       "    </tr>\n",
       "    <tr>\n",
       "      <th>mean_relevancy_score</th>\n",
       "      <td>0.825641</td>\n",
       "    </tr>\n",
       "    <tr>\n",
       "      <th>mean_faithfulness_score</th>\n",
       "      <td>0.882051</td>\n",
       "    </tr>\n",
       "    <tr>\n",
       "      <th>mean_context_similarity_score</th>\n",
       "      <td>NaN</td>\n",
       "    </tr>\n",
       "  </tbody>\n",
       "</table>\n",
       "</div>"
      ],
      "text/plain": [
       "rag                            base_rag\n",
       "metrics                                \n",
       "mean_correctness_score         2.666667\n",
       "mean_relevancy_score           0.825641\n",
       "mean_faithfulness_score        0.882051\n",
       "mean_context_similarity_score       NaN"
      ]
     },
     "execution_count": 6,
     "metadata": {},
     "output_type": "execute_result"
    }
   ],
   "source": [
    "from llama_index.readers import SimpleDirectoryReader\n",
    "from llama_index import VectorStoreIndex\n",
    "from llama_index.llama_pack import download_llama_pack\n",
    "\n",
    "documents = SimpleDirectoryReader(input_dir=str(DOCS_DIR)).load_data()\n",
    "\n",
    "index = VectorStoreIndex.from_documents(documents=documents)\n",
    "query_engine = index.as_query_engine()\n",
    "\n",
    "RagEvaluatorPack = download_llama_pack(\"RagEvaluatorPack\", \"./pack\")\n",
    "rag_evaluator = RagEvaluatorPack(\n",
    "    query_engine=query_engine,\n",
    "    rag_dataset=rag_dataset,\n",
    ")\n",
    "benchmark_df = await rag_evaluator.arun()\n",
    "benchmark_df"
   ]
  },
  {
   "cell_type": "markdown",
   "metadata": {},
   "source": [
    "## Prepare card.json and README.md"
   ]
  },
  {
   "cell_type": "code",
   "execution_count": 7,
   "metadata": {},
   "outputs": [],
   "source": [
    "from llama_index.llama_pack import download_llama_pack\n",
    "\n",
    "LlamaDatasetMetadataPack = download_llama_pack(\"LlamaDatasetMetadataPack\", \"./pack\")\n",
    "\n",
    "metadata_pack = LlamaDatasetMetadataPack()\n",
    "\n",
    "dataset_description = (\n",
    "    \"A labelled RAG dataset with SEC 10-Q documents for major tech companies including queries \"\n",
    "    \"across multiple docs and chunks, with reference answers. \"\n",
    "    \"See https://github.com/docugami/KG-RAG-datasets for details.\"\n",
    ")\n",
    "\n",
    "# This creates and saves a card.json and README.md to the same\n",
    "# directory where you're running this notebook.\n",
    "metadata_pack.run(\n",
    "    name=\"Docugami KG-RAG - SEC 10-Q\",\n",
    "    description=dataset_description,\n",
    "    rag_dataset=rag_dataset,\n",
    "    index=index,\n",
    "    benchmark_df=benchmark_df,\n",
    "    baseline_name=\"llamaindex\",\n",
    ")"
   ]
  }
 ],
 "metadata": {
  "kernelspec": {
   "display_name": "Python 3",
   "language": "python",
   "name": "python3"
  },
  "language_info": {
   "codemirror_mode": {
    "name": "ipython",
    "version": 3
   },
   "file_extension": ".py",
   "mimetype": "text/x-python",
   "name": "python",
   "nbconvert_exporter": "python",
   "pygments_lexer": "ipython3",
   "version": "3.9.16"
  }
 },
 "nbformat": 4,
 "nbformat_minor": 2
}
